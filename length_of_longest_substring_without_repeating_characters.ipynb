{
 "cells": [
  {
   "cell_type": "code",
   "execution_count": 8,
   "metadata": {},
   "outputs": [
    {
     "name": "stdout",
     "output_type": "stream",
     "text": [
      "10\n",
      "helloworld\n",
      "5\n"
     ]
    }
   ],
   "source": [
    "x = 256\n",
    "\n",
    "def max_length(s,n):\n",
    "    l = [-1]*x\n",
    "    max_len = 1\n",
    "    curr_len = 1\n",
    "    last_index = 0\n",
    "    l[ord(s[0])] = 0\n",
    "    for i in range(1,n):\n",
    "        last_index = l[ord(s[i])]\n",
    "        if last_index == -1 or (i - curr_len > last_index):\n",
    "            curr_len+=1\n",
    "        else:\n",
    "            if max_len < curr_len:\n",
    "                max_len = curr_len\n",
    "            curr_len = i - last_index\n",
    "        l[ord(s[i])] = i\n",
    "    if curr_len > max_len: \n",
    "        max_len = curr_len \n",
    "    return max_len\n",
    "\n",
    "n = int(input())\n",
    "s = input()\n",
    "print(max_length(s,n))"
   ]
  }
 ],
 "metadata": {
  "kernelspec": {
   "display_name": "Python 3",
   "language": "python",
   "name": "python3"
  },
  "language_info": {
   "codemirror_mode": {
    "name": "ipython",
    "version": 3
   },
   "file_extension": ".py",
   "mimetype": "text/x-python",
   "name": "python",
   "nbconvert_exporter": "python",
   "pygments_lexer": "ipython3",
   "version": "3.7.0"
  }
 },
 "nbformat": 4,
 "nbformat_minor": 2
}
