{
 "cells": [
  {
   "cell_type": "code",
   "execution_count": null,
   "metadata": {},
   "outputs": [],
   "source": [
    "# Function which returns all unordered pairs.\n",
    "from itertools import combinations \n",
    "  \n",
    "def pairs(arr): \n",
    "  \n",
    "    # return list of all subsets of length r \n",
    "    return list(combinations(arr, 2)) \n",
    "  \n",
    "l=list(map(int,input().split()))\n",
    "print(pairs(l))"
   ]
  }
 ],
 "metadata": {
  "kernelspec": {
   "display_name": "Python 3",
   "language": "python",
   "name": "python3"
  },
  "language_info": {
   "codemirror_mode": {
    "name": "ipython",
    "version": 3
   },
   "file_extension": ".py",
   "mimetype": "text/x-python",
   "name": "python",
   "nbconvert_exporter": "python",
   "pygments_lexer": "ipython3",
   "version": "3.7.0"
  }
 },
 "nbformat": 4,
 "nbformat_minor": 2
}
