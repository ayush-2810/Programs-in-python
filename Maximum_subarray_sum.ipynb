{
 "cells": [
  {
   "cell_type": "code",
   "execution_count": 7,
   "metadata": {},
   "outputs": [
    {
     "name": "stdout",
     "output_type": "stream",
     "text": [
      "-2 -3 4 -1 -2 1 5 -3\n",
      "7\n"
     ]
    }
   ],
   "source": [
    "l = list(map(int,input().split()))\n",
    "temp_sum = l[0]\n",
    "max_sum = l[0]\n",
    "for i in range(1,len(l)):\n",
    "    temp_sum = max(l[i], temp_sum+l[i])\n",
    "    max_sum = max(temp_sum, max_sum)\n",
    "print(max_sum)"
   ]
  }
 ],
 "metadata": {
  "kernelspec": {
   "display_name": "Python 3",
   "language": "python",
   "name": "python3"
  },
  "language_info": {
   "codemirror_mode": {
    "name": "ipython",
    "version": 3
   },
   "file_extension": ".py",
   "mimetype": "text/x-python",
   "name": "python",
   "nbconvert_exporter": "python",
   "pygments_lexer": "ipython3",
   "version": "3.7.0"
  }
 },
 "nbformat": 4,
 "nbformat_minor": 2
}
